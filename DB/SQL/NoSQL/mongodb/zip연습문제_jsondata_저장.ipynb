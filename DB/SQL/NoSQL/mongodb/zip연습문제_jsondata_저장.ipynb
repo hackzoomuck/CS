import json
import pymongo

with open('data/zip.json','r',encoding='utf8') as file:
    contents = file.read()
    json_data =json.loads(contents)
    
conn = pymongo.MongoClient()
print(conn)
us_db = conn.us_db
print(us_db)
us_col = us_db.us_col
print(us_col)

us_col.insert_many(json_data)
us_col.count_documents({})
